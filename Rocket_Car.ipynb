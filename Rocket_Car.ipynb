{
 "cells": [
  {
   "cell_type": "markdown",
   "metadata": {},
   "source": [
    "## <center>$\\mathbf{\\text{Modeling of a Variable-Mass Nonholonomic Gyrostatic Rocket Car Using Extended Kane's Equations}}$</center>"
   ]
  },
  {
   "cell_type": "markdown",
   "metadata": {},
   "source": [
    "##### <center>$\\text{Ge, Z.M. and Cheng, Y.H., 1982. Extended Kane’s equations for nonholonomic variable mass system.}$</center>"
   ]
  },
  {
   "cell_type": "markdown",
   "metadata": {},
   "source": [
    "<img src=\"Images/fig_1.png\" width=\"500\"/>\n",
    "\n",
    "##### <center>$\\text{Figure 1: Idealized model of a jet racing car that is propelled by a rocket engine at point P, the rocket engine being treated as a variable mass particle at P}$</center>"
   ]
  },
  {
   "cell_type": "markdown",
   "metadata": {},
   "source": [
    "##### <center>$\\text{Here}, \\{a_x: g_3, a_y: g_1, a_z: g_2\\}$</center>"
   ]
  },
  {
   "cell_type": "markdown",
   "metadata": {},
   "source": [
    "<img src=\"Images/Gyrostat_def.png\" width=\"750\"/>\n",
    "\n",
    "##### <center>$\\text{Leimanis, E., 2013. The general problem of the motion of coupled rigid bodies about a fixed point (Vol. 7). Springer Science & Business Media. (Page 207)}$</center>"
   ]
  },
  {
   "cell_type": "code",
   "execution_count": 1,
   "metadata": {},
   "outputs": [],
   "source": [
    "import sympy as sm\n",
    "import sympy.physics.mechanics as me\n",
    "from pydy.system import System\n",
    "import numpy as np\n",
    "from sympy.simplify.fu import TR2\n",
    "import matplotlib.pyplot as plt\n",
    "from scipy.integrate import odeint\n",
    "me.init_vprinting()"
   ]
  },
  {
   "cell_type": "code",
   "execution_count": 2,
   "metadata": {},
   "outputs": [],
   "source": [
    "N = me.ReferenceFrame('N')\n",
    "\n",
    "q1, q2, q3, q4, q5, q6, q7, q8 = me.dynamicsymbols('q1:9')\n",
    "\n",
    "A2 = N.orientnew('A_2', 'Axis', [q3, N.z])\n",
    "A1 = A2.orientnew('A_1', 'Axis', [q4, A2.z])\n",
    "\n",
    "B1 = A1.orientnew('B_1', 'Axis', [q5, A1.y])\n",
    "B2 = A1.orientnew('B_2', 'Axis', [q6, A1.y])\n",
    "B3 = A2.orientnew('B_3', 'Axis', [q7, A2.y])\n",
    "B4 = A2.orientnew('B_4', 'Axis', [q8, A2.y])\n",
    "\n",
    "t = me.dynamicsymbols._t"
   ]
  },
  {
   "cell_type": "code",
   "execution_count": 3,
   "metadata": {},
   "outputs": [],
   "source": [
    "O = me.Point('O') # fixed point in the inertial reference frame\n",
    "O.set_vel(N, 0)"
   ]
  },
  {
   "cell_type": "code",
   "execution_count": 4,
   "metadata": {},
   "outputs": [],
   "source": [
    "L, l , a, b, r1, r2 = sm.symbols('L, l , a, b, r_1, r_2')"
   ]
  },
  {
   "cell_type": "code",
   "execution_count": 5,
   "metadata": {},
   "outputs": [],
   "source": [
    "Q = O.locatenew('Q', q1 * N.x + q2 * N.y)"
   ]
  },
  {
   "cell_type": "code",
   "execution_count": 6,
   "metadata": {},
   "outputs": [],
   "source": [
    "P = Q.locatenew('P', L * -A2.x)"
   ]
  },
  {
   "cell_type": "code",
   "execution_count": 7,
   "metadata": {},
   "outputs": [],
   "source": [
    "C = P.locatenew('C', l * A2.x)"
   ]
  },
  {
   "cell_type": "code",
   "execution_count": 8,
   "metadata": {},
   "outputs": [
    {
     "data": {
      "image/png": "[encoded data removed]",
      "text/latex": [
       "$\\displaystyle \\dot{q}_{1}\\mathbf{\\hat{n}_x} + \\dot{q}_{2}\\mathbf{\\hat{n}_y}$"
      ],
      "text/plain": [
       "q₁̇ n_x + q₂̇ n_y"
      ]
     },
     "execution_count": 8,
     "metadata": {},
     "output_type": "execute_result"
    }
   ],
   "source": [
    "Q.set_vel(N, Q.pos_from(O).dt(N))\n",
    "Q.vel(N)"
   ]
  },
  {
   "cell_type": "code",
   "execution_count": 9,
   "metadata": {},
   "outputs": [
    {
     "data": {
      "image/png": "[encoded data removed]",
      "text/latex": [
       "$\\displaystyle \\dot{q}_{1}\\mathbf{\\hat{n}_x} + \\dot{q}_{2}\\mathbf{\\hat{n}_y} -  L \\dot{q}_{3}\\mathbf{\\hat{a_2}_y}$"
      ],
      "text/plain": [
       "q₁̇ n_x + q₂̇ n_y + -L⋅q₃̇ a_2_y"
      ]
     },
     "execution_count": 9,
     "metadata": {},
     "output_type": "execute_result"
    }
   ],
   "source": [
    "P.v2pt_theory(Q, N, A2)\n",
    "P.vel(N)"
   ]
  },
  {
   "cell_type": "code",
   "execution_count": 10,
   "metadata": {},
   "outputs": [
    {
     "data": {
      "image/png": "[encoded data removed]",
      "text/latex": [
       "$\\displaystyle \\dot{q}_{1}\\mathbf{\\hat{n}_x} + \\dot{q}_{2}\\mathbf{\\hat{n}_y} + (- L \\dot{q}_{3} + l \\dot{q}_{3})\\mathbf{\\hat{a_2}_y}$"
      ],
      "text/plain": [
       "q₁̇ n_x + q₂̇ n_y + (-L⋅q₃̇ + l⋅q₃̇) a_2_y"
      ]
     },
     "execution_count": 10,
     "metadata": {},
     "output_type": "execute_result"
    }
   ],
   "source": [
    "C.v2pt_theory(P, N, A2)\n",
    "# C.vel(N)"
   ]
  },
  {
   "cell_type": "code",
   "execution_count": 11,
   "metadata": {},
   "outputs": [
    {
     "data": {
      "image/png": "[encoded data removed]",
      "text/latex": [
       "$\\displaystyle \\dot{q}_{4}\\mathbf{\\hat{a_1}_z}$"
      ],
      "text/plain": [
       "q₄̇ a_1_z"
      ]
     },
     "execution_count": 11,
     "metadata": {},
     "output_type": "execute_result"
    }
   ],
   "source": [
    "A1.ang_vel_in(A2).express(A1)"
   ]
  },
  {
   "cell_type": "code",
   "execution_count": 12,
   "metadata": {},
   "outputs": [],
   "source": [
    "u1, u2 = me.dynamicsymbols('u_1:3')"
   ]
  },
  {
   "cell_type": "code",
   "execution_count": 13,
   "metadata": {},
   "outputs": [],
   "source": [
    "z1 = sm.Eq(u1, A1.ang_vel_in(A2).dot(A1.z))\n",
    "z2 = sm.Eq(u2, Q.vel(N).dot(A1.x))"
   ]
  },
  {
   "cell_type": "code",
   "execution_count": 14,
   "metadata": {},
   "outputs": [
    {
     "data": {
      "image/png": "[encoded data removed]",
      "text/latex": [
       "$\\displaystyle \\left\\{ \\operatorname{sin}\\left(q_{3} + q_{4}\\right) \\dot{q}_{2} + \\operatorname{cos}\\left(q_{3} + q_{4}\\right) \\dot{q}_{1} : u_{2}, \\  \\dot{q}_{4} : u_{1}\\right\\}$"
      ],
      "text/plain": [
       "{sin(q₃ + q₄)⋅q₂̇ + cos(q₃ + q₄)⋅q₁̇: u₂, q₄̇: u₁}"
      ]
     },
     "execution_count": 14,
     "metadata": {},
     "output_type": "execute_result"
    }
   ],
   "source": [
    "u = sm.trigsimp(sm.solve([z1, z2], A1.ang_vel_in(A2).dot(A1.z), Q.vel(N).dot(A1.x)))\n",
    "u"
   ]
  },
  {
   "cell_type": "markdown",
   "metadata": {},
   "source": [
    "### $\\text{Nonholonomic Constraints:}\\ B_1$"
   ]
  },
  {
   "cell_type": "code",
   "execution_count": 15,
   "metadata": {},
   "outputs": [
    {
     "data": {
      "image/png": "[encoded data removed]",
      "text/latex": [
       "$\\displaystyle a\\mathbf{\\hat{a_1}_y}$"
      ],
      "text/plain": [
       "a a_1_y"
      ]
     },
     "execution_count": 15,
     "metadata": {},
     "output_type": "execute_result"
    }
   ],
   "source": [
    "B1_center = Q.locatenew('B_1_center', a * A1.y)\n",
    "B1_center.pos_from(Q)"
   ]
  },
  {
   "cell_type": "code",
   "execution_count": 16,
   "metadata": {},
   "outputs": [
    {
     "data": {
      "image/png": "[encoded data removed]",
      "text/latex": [
       "$\\displaystyle (- a \\left(\\dot{q}_{3} + \\dot{q}_{4}\\right) + \\operatorname{sin}\\left(q_{3} + q_{4}\\right) \\dot{q}_{2} + \\operatorname{cos}\\left(q_{3} + q_{4}\\right) \\dot{q}_{1})\\mathbf{\\hat{a_1}_x} + (- \\operatorname{sin}\\left(q_{3} + q_{4}\\right) \\dot{q}_{1} + \\operatorname{cos}\\left(q_{3} + q_{4}\\right) \\dot{q}_{2})\\mathbf{\\hat{a_1}_y}$"
      ],
      "text/plain": [
       "(-a⋅(q₃̇ + q₄̇) + sin(q₃ + q₄)⋅q₂̇ + cos(q₃ + q₄)⋅q₁̇) a_1_x + (-sin(q₃ + q₄)⋅\n",
       "q₁̇ + cos(q₃ + q₄)⋅q₂̇) a_1_y"
      ]
     },
     "execution_count": 16,
     "metadata": {},
     "output_type": "execute_result"
    }
   ],
   "source": [
    "B1_center.v2pt_theory(Q, N, A1)\n",
    "B1_center.vel(N).express(A1).simplify()"
   ]
  },
  {
   "cell_type": "code",
   "execution_count": 17,
   "metadata": {},
   "outputs": [
    {
     "data": {
      "image/png": "[encoded data removed]",
      "text/latex": [
       "$\\displaystyle -  r_{1}\\mathbf{\\hat{a_1}_z}$"
      ],
      "text/plain": [
       "-r₁ a_1_z"
      ]
     },
     "execution_count": 17,
     "metadata": {},
     "output_type": "execute_result"
    }
   ],
   "source": [
    "B1_ground = B1_center.locatenew('B_1_ground', r1 * -A1.z)\n",
    "B1_ground.pos_from(B1_center)"
   ]
  },
  {
   "cell_type": "code",
   "execution_count": 18,
   "metadata": {},
   "outputs": [
    {
     "data": {
      "image/png": "[encoded data removed]",
      "text/latex": [
       "$\\displaystyle \\dot{q}_{1}\\mathbf{\\hat{n}_x} + \\dot{q}_{2}\\mathbf{\\hat{n}_y} + (- a \\left(\\dot{q}_{3} + \\dot{q}_{4}\\right) - r_{1} \\dot{q}_{5})\\mathbf{\\hat{a_1}_x}$"
      ],
      "text/plain": [
       "q₁̇ n_x + q₂̇ n_y + (-a⋅(q₃̇ + q₄̇) - r₁⋅q₅̇) a_1_x"
      ]
     },
     "execution_count": 18,
     "metadata": {},
     "output_type": "execute_result"
    }
   ],
   "source": [
    "B1_ground.v2pt_theory(B1_center, N, B1)\n",
    "B1_ground.vel(N).simplify()"
   ]
  },
  {
   "cell_type": "code",
   "execution_count": 19,
   "metadata": {},
   "outputs": [
    {
     "data": {
      "image/png": "[encoded data removed]",
      "text/latex": [
       "$\\displaystyle \\left[ - a \\left(\\dot{q}_{3} + \\dot{q}_{4}\\right) - r_{1} \\dot{q}_{5} + \\left(- \\operatorname{sin}\\left(q_{3}\\right) \\operatorname{sin}\\left(q_{4}\\right) + \\operatorname{cos}\\left(q_{3}\\right) \\operatorname{cos}\\left(q_{4}\\right)\\right) \\dot{q}_{1} + \\left(\\operatorname{sin}\\left(q_{3}\\right) \\operatorname{cos}\\left(q_{4}\\right) + \\operatorname{sin}\\left(q_{4}\\right) \\operatorname{cos}\\left(q_{3}\\right)\\right) \\dot{q}_{2}, \\  \\left(- \\operatorname{sin}\\left(q_{3}\\right) \\operatorname{sin}\\left(q_{4}\\right) + \\operatorname{cos}\\left(q_{3}\\right) \\operatorname{cos}\\left(q_{4}\\right)\\right) \\dot{q}_{2} + \\left(- \\operatorname{sin}\\left(q_{3}\\right) \\operatorname{cos}\\left(q_{4}\\right) - \\operatorname{sin}\\left(q_{4}\\right) \\operatorname{cos}\\left(q_{3}\\right)\\right) \\dot{q}_{1}, \\  0\\right]$"
      ],
      "text/plain": [
       "[-a⋅(q₃̇ + q₄̇) - r₁⋅q₅̇ + (-sin(q₃)⋅sin(q₄) + cos(q₃)⋅cos(q₄))⋅q₁̇ + (sin(q₃)\n",
       "⋅cos(q₄) + sin(q₄)⋅cos(q₃))⋅q₂̇, (-sin(q₃)⋅sin(q₄) + cos(q₃)⋅cos(q₄))⋅q₂̇ + (-\n",
       "sin(q₃)⋅cos(q₄) - sin(q₄)⋅cos(q₃))⋅q₁̇, 0]"
      ]
     },
     "execution_count": 19,
     "metadata": {},
     "output_type": "execute_result"
    }
   ],
   "source": [
    "B1_cons = [me.dot(B1_ground.vel(N).simplify(), uv) for uv in A1]\n",
    "sm.trigsimp(B1_cons)"
   ]
  },
  {
   "cell_type": "code",
   "execution_count": 20,
   "metadata": {},
   "outputs": [
    {
     "data": {
      "image/png": "[encoded data removed]",
      "text/latex": [
       "$\\displaystyle - a \\left(u_{1} + \\dot{q}_{3}\\right) - r_{1} \\dot{q}_{5} + u_{2} = 0$"
      ],
      "text/plain": [
       "-a⋅(u₁ + q₃̇) - r₁⋅q₅̇ + u₂ = 0"
      ]
     },
     "execution_count": 20,
     "metadata": {},
     "output_type": "execute_result"
    }
   ],
   "source": [
    "eq1 = sm.Eq(B1_cons[0].simplify().subs(u), 0)\n",
    "eq1"
   ]
  },
  {
   "cell_type": "code",
   "execution_count": 21,
   "metadata": {},
   "outputs": [
    {
     "data": {
      "image/png": "[encoded data removed]",
      "text/latex": [
       "$\\displaystyle - \\operatorname{sin}\\left(q_{3} + q_{4}\\right) \\dot{q}_{1} + \\operatorname{cos}\\left(q_{3} + q_{4}\\right) \\dot{q}_{2} = 0$"
      ],
      "text/plain": [
       "-sin(q₃ + q₄)⋅q₁̇ + cos(q₃ + q₄)⋅q₂̇ = 0"
      ]
     },
     "execution_count": 21,
     "metadata": {},
     "output_type": "execute_result"
    }
   ],
   "source": [
    "eq2 = sm.Eq(B1_cons[1].simplify().subs(u), 0)\n",
    "eq2"
   ]
  },
  {
   "cell_type": "markdown",
   "metadata": {},
   "source": [
    "### $\\text{Nonholonomic Constraints:}\\ B_2$"
   ]
  },
  {
   "cell_type": "code",
   "execution_count": 22,
   "metadata": {},
   "outputs": [
    {
     "data": {
      "image/png": "[encoded data removed]",
      "text/latex": [
       "$\\displaystyle -  a\\mathbf{\\hat{a_1}_y}$"
      ],
      "text/plain": [
       "-a a_1_y"
      ]
     },
     "execution_count": 22,
     "metadata": {},
     "output_type": "execute_result"
    }
   ],
   "source": [
    "B2_center = Q.locatenew('B_1_center', a * -A1.y)\n",
    "B2_center.pos_from(Q)"
   ]
  },
  {
   "cell_type": "code",
   "execution_count": 23,
   "metadata": {},
   "outputs": [
    {
     "data": {
      "image/png": "[encoded data removed]",
      "text/latex": [
       "$\\displaystyle (a \\left(\\dot{q}_{3} + \\dot{q}_{4}\\right) + \\operatorname{sin}\\left(q_{3} + q_{4}\\right) \\dot{q}_{2} + \\operatorname{cos}\\left(q_{3} + q_{4}\\right) \\dot{q}_{1})\\mathbf{\\hat{a_1}_x} + (- \\operatorname{sin}\\left(q_{3} + q_{4}\\right) \\dot{q}_{1} + \\operatorname{cos}\\left(q_{3} + q_{4}\\right) \\dot{q}_{2})\\mathbf{\\hat{a_1}_y}$"
      ],
      "text/plain": [
       "(a⋅(q₃̇ + q₄̇) + sin(q₃ + q₄)⋅q₂̇ + cos(q₃ + q₄)⋅q₁̇) a_1_x + (-sin(q₃ + q₄)⋅q\n",
       "₁̇ + cos(q₃ + q₄)⋅q₂̇) a_1_y"
      ]
     },
     "execution_count": 23,
     "metadata": {},
     "output_type": "execute_result"
    }
   ],
   "source": [
    "B2_center.v2pt_theory(Q, N, A1)\n",
    "B2_center.vel(N).express(A1).simplify()"
   ]
  },
  {
   "cell_type": "code",
   "execution_count": 24,
   "metadata": {},
   "outputs": [
    {
     "data": {
      "image/png": "[encoded data removed]",
      "text/latex": [
       "$\\displaystyle -  r_{1}\\mathbf{\\hat{a_1}_z}$"
      ],
      "text/plain": [
       "-r₁ a_1_z"
      ]
     },
     "execution_count": 24,
     "metadata": {},
     "output_type": "execute_result"
    }
   ],
   "source": [
    "B2_ground = B2_center.locatenew('B_2_ground', r1 * -A1.z)\n",
    "B2_ground.pos_from(B2_center)"
   ]
  },
  {
   "cell_type": "code",
   "execution_count": 25,
   "metadata": {},
   "outputs": [
    {
     "data": {
      "image/png": "[encoded data removed]",
      "text/latex": [
       "$\\displaystyle \\dot{q}_{1}\\mathbf{\\hat{n}_x} + \\dot{q}_{2}\\mathbf{\\hat{n}_y} + (a \\left(\\dot{q}_{3} + \\dot{q}_{4}\\right) - r_{1} \\dot{q}_{6})\\mathbf{\\hat{a_1}_x}$"
      ],
      "text/plain": [
       "q₁̇ n_x + q₂̇ n_y + (a⋅(q₃̇ + q₄̇) - r₁⋅q₆̇) a_1_x"
      ]
     },
     "execution_count": 25,
     "metadata": {},
     "output_type": "execute_result"
    }
   ],
   "source": [
    "B2_ground.v2pt_theory(B2_center, N, B2)\n",
    "B2_ground.vel(N).simplify()"
   ]
  },
  {
   "cell_type": "code",
   "execution_count": 26,
   "metadata": {},
   "outputs": [
    {
     "data": {
      "image/png": "[encoded data removed]",
      "text/latex": [
       "$\\displaystyle \\left[ a \\left(\\dot{q}_{3} + \\dot{q}_{4}\\right) - r_{1} \\dot{q}_{6} + \\left(- \\operatorname{sin}\\left(q_{3}\\right) \\operatorname{sin}\\left(q_{4}\\right) + \\operatorname{cos}\\left(q_{3}\\right) \\operatorname{cos}\\left(q_{4}\\right)\\right) \\dot{q}_{1} + \\left(\\operatorname{sin}\\left(q_{3}\\right) \\operatorname{cos}\\left(q_{4}\\right) + \\operatorname{sin}\\left(q_{4}\\right) \\operatorname{cos}\\left(q_{3}\\right)\\right) \\dot{q}_{2}, \\  \\left(- \\operatorname{sin}\\left(q_{3}\\right) \\operatorname{sin}\\left(q_{4}\\right) + \\operatorname{cos}\\left(q_{3}\\right) \\operatorname{cos}\\left(q_{4}\\right)\\right) \\dot{q}_{2} + \\left(- \\operatorname{sin}\\left(q_{3}\\right) \\operatorname{cos}\\left(q_{4}\\right) - \\operatorname{sin}\\left(q_{4}\\right) \\operatorname{cos}\\left(q_{3}\\right)\\right) \\dot{q}_{1}, \\  0\\right]$"
      ],
      "text/plain": [
       "[a⋅(q₃̇ + q₄̇) - r₁⋅q₆̇ + (-sin(q₃)⋅sin(q₄) + cos(q₃)⋅cos(q₄))⋅q₁̇ + (sin(q₃)⋅\n",
       "cos(q₄) + sin(q₄)⋅cos(q₃))⋅q₂̇, (-sin(q₃)⋅sin(q₄) + cos(q₃)⋅cos(q₄))⋅q₂̇ + (-s\n",
       "in(q₃)⋅cos(q₄) - sin(q₄)⋅cos(q₃))⋅q₁̇, 0]"
      ]
     },
     "execution_count": 26,
     "metadata": {},
     "output_type": "execute_result"
    }
   ],
   "source": [
    "B2_cons = [me.dot(B2_ground.vel(N).simplify(), uv) for uv in A1]\n",
    "sm.trigsimp(B2_cons)"
   ]
  },
  {
   "cell_type": "code",
   "execution_count": 27,
   "metadata": {},
   "outputs": [
    {
     "data": {
      "image/png": "[encoded data removed]",
      "text/latex": [
       "$\\displaystyle a \\left(u_{1} + \\dot{q}_{3}\\right) - r_{1} \\dot{q}_{6} + u_{2} = 0$"
      ],
      "text/plain": [
       "a⋅(u₁ + q₃̇) - r₁⋅q₆̇ + u₂ = 0"
      ]
     },
     "execution_count": 27,
     "metadata": {},
     "output_type": "execute_result"
    }
   ],
   "source": [
    "eq3 = sm.Eq(B2_cons[0].simplify().subs(u), 0)\n",
    "eq3"
   ]
  },
  {
   "cell_type": "code",
   "execution_count": 28,
   "metadata": {},
   "outputs": [
    {
     "data": {
      "image/png": "[encoded data removed]",
      "text/latex": [
       "$\\displaystyle - \\operatorname{sin}\\left(q_{3} + q_{4}\\right) \\dot{q}_{1} + \\operatorname{cos}\\left(q_{3} + q_{4}\\right) \\dot{q}_{2} = 0$"
      ],
      "text/plain": [
       "-sin(q₃ + q₄)⋅q₁̇ + cos(q₃ + q₄)⋅q₂̇ = 0"
      ]
     },
     "execution_count": 28,
     "metadata": {},
     "output_type": "execute_result"
    }
   ],
   "source": [
    "eq4 = sm.Eq(B2_cons[1].simplify().subs(u), 0)\n",
    "eq4"
   ]
  },
  {
   "cell_type": "markdown",
   "metadata": {},
   "source": [
    "### $\\text{Nonholonomic Constraints:}\\ B_3$"
   ]
  },
  {
   "cell_type": "code",
   "execution_count": 29,
   "metadata": {},
   "outputs": [
    {
     "data": {
      "image/png": "[encoded data removed]",
      "text/latex": [
       "$\\displaystyle b\\mathbf{\\hat{a_2}_y}$"
      ],
      "text/plain": [
       "b a_2_y"
      ]
     },
     "execution_count": 29,
     "metadata": {},
     "output_type": "execute_result"
    }
   ],
   "source": [
    "B3_center = P.locatenew('B_3_center', b * A2.y)\n",
    "B3_center.pos_from(P)"
   ]
  },
  {
   "cell_type": "code",
   "execution_count": 30,
   "metadata": {},
   "outputs": [
    {
     "data": {
      "image/png": "[encoded data removed]",
      "text/latex": [
       "$\\displaystyle (- b \\dot{q}_{3} + \\operatorname{sin}\\left(q_{3}\\right) \\dot{q}_{2} + \\operatorname{cos}\\left(q_{3}\\right) \\dot{q}_{1})\\mathbf{\\hat{a_2}_x} + (- L \\dot{q}_{3} - \\operatorname{sin}\\left(q_{3}\\right) \\dot{q}_{1} + \\operatorname{cos}\\left(q_{3}\\right) \\dot{q}_{2})\\mathbf{\\hat{a_2}_y}$"
      ],
      "text/plain": [
       "(-b⋅q₃̇ + sin(q₃)⋅q₂̇ + cos(q₃)⋅q₁̇) a_2_x + (-L⋅q₃̇ - sin(q₃)⋅q₁̇ + cos(q₃)⋅q\n",
       "₂̇) a_2_y"
      ]
     },
     "execution_count": 30,
     "metadata": {},
     "output_type": "execute_result"
    }
   ],
   "source": [
    "B3_center.v2pt_theory(P, N, A2)\n",
    "B3_center.vel(N).express(A2).simplify()"
   ]
  },
  {
   "cell_type": "code",
   "execution_count": 31,
   "metadata": {},
   "outputs": [
    {
     "data": {
      "image/png": "[encoded data removed]",
      "text/latex": [
       "$\\displaystyle -  r_{2}\\mathbf{\\hat{a_2}_z}$"
      ],
      "text/plain": [
       "-r₂ a_2_z"
      ]
     },
     "execution_count": 31,
     "metadata": {},
     "output_type": "execute_result"
    }
   ],
   "source": [
    "B3_ground = B3_center.locatenew('B_3_ground', r2 * -A2.z)\n",
    "B3_ground.pos_from(B3_center)"
   ]
  },
  {
   "cell_type": "code",
   "execution_count": 32,
   "metadata": {},
   "outputs": [
    {
     "data": {
      "image/png": "[encoded data removed]",
      "text/latex": [
       "$\\displaystyle \\dot{q}_{1}\\mathbf{\\hat{n}_x} + \\dot{q}_{2}\\mathbf{\\hat{n}_y} + (- b \\dot{q}_{3} - r_{2} \\dot{q}_{7})\\mathbf{\\hat{a_2}_x} -  L \\dot{q}_{3}\\mathbf{\\hat{a_2}_y}$"
      ],
      "text/plain": [
       "q₁̇ n_x + q₂̇ n_y + (-b⋅q₃̇ - r₂⋅q₇̇) a_2_x + -L⋅q₃̇ a_2_y"
      ]
     },
     "execution_count": 32,
     "metadata": {},
     "output_type": "execute_result"
    }
   ],
   "source": [
    "B3_ground.v2pt_theory(B3_center, N, B3)\n",
    "B3_ground.vel(N).simplify()"
   ]
  },
  {
   "cell_type": "code",
   "execution_count": 33,
   "metadata": {},
   "outputs": [
    {
     "data": {
      "image/png": "[encoded data removed]",
      "text/latex": [
       "$\\displaystyle \\left[ - b \\dot{q}_{3} - r_{2} \\dot{q}_{7} + \\operatorname{sin}\\left(q_{3}\\right) \\dot{q}_{2} + \\operatorname{cos}\\left(q_{3}\\right) \\dot{q}_{1}, \\  - L \\dot{q}_{3} - \\operatorname{sin}\\left(q_{3}\\right) \\dot{q}_{1} + \\operatorname{cos}\\left(q_{3}\\right) \\dot{q}_{2}, \\  0\\right]$"
      ],
      "text/plain": [
       "[-b⋅q₃̇ - r₂⋅q₇̇ + sin(q₃)⋅q₂̇ + cos(q₃)⋅q₁̇, -L⋅q₃̇ - sin(q₃)⋅q₁̇ + cos(q₃)⋅q₂̇, 0]"
      ]
     },
     "execution_count": 33,
     "metadata": {},
     "output_type": "execute_result"
    }
   ],
   "source": [
    "B3_cons = [me.dot(B3_ground.vel(N).simplify(), uv) for uv in A2]\n",
    "sm.trigsimp(B3_cons)"
   ]
  },
  {
   "cell_type": "code",
   "execution_count": 34,
   "metadata": {},
   "outputs": [
    {
     "data": {
      "image/png": "[encoded data removed]",
      "text/latex": [
       "$\\displaystyle - b \\dot{q}_{3} - r_{2} \\dot{q}_{7} + \\operatorname{sin}\\left(q_{3}\\right) \\dot{q}_{2} + \\operatorname{cos}\\left(q_{3}\\right) \\dot{q}_{1} = 0$"
      ],
      "text/plain": [
       "-b⋅q₃̇ - r₂⋅q₇̇ + sin(q₃)⋅q₂̇ + cos(q₃)⋅q₁̇ = 0"
      ]
     },
     "execution_count": 34,
     "metadata": {},
     "output_type": "execute_result"
    }
   ],
   "source": [
    "eq5 = sm.Eq(B3_cons[0].simplify().subs(u), 0)\n",
    "eq5"
   ]
  },
  {
   "cell_type": "code",
   "execution_count": 35,
   "metadata": {},
   "outputs": [
    {
     "data": {
      "image/png": "[encoded data removed]",
      "text/latex": [
       "$\\displaystyle - L \\dot{q}_{3} - \\operatorname{sin}\\left(q_{3}\\right) \\dot{q}_{1} + \\operatorname{cos}\\left(q_{3}\\right) \\dot{q}_{2} = 0$"
      ],
      "text/plain": [
       "-L⋅q₃̇ - sin(q₃)⋅q₁̇ + cos(q₃)⋅q₂̇ = 0"
      ]
     },
     "execution_count": 35,
     "metadata": {},
     "output_type": "execute_result"
    }
   ],
   "source": [
    "eq6 = sm.Eq(B3_cons[1].simplify().subs(u), 0)\n",
    "eq6"
   ]
  },
  {
   "cell_type": "markdown",
   "metadata": {},
   "source": [
    "### $\\text{Nonholonomic Constraints:}\\ B_4$"
   ]
  },
  {
   "cell_type": "code",
   "execution_count": 36,
   "metadata": {},
   "outputs": [
    {
     "data": {
      "image/png": "[encoded data removed]",
      "text/latex": [
       "$\\displaystyle -  b\\mathbf{\\hat{a_2}_y}$"
      ],
      "text/plain": [
       "-b a_2_y"
      ]
     },
     "execution_count": 36,
     "metadata": {},
     "output_type": "execute_result"
    }
   ],
   "source": [
    "B4_center = P.locatenew('B_4_center', b * -A2.y)\n",
    "B4_center.pos_from(P)"
   ]
  },
  {
   "cell_type": "code",
   "execution_count": 37,
   "metadata": {},
   "outputs": [
    {
     "data": {
      "image/png": "[encoded data removed]",
      "text/latex": [
       "$\\displaystyle \\dot{q}_{1}\\mathbf{\\hat{n}_x} + \\dot{q}_{2}\\mathbf{\\hat{n}_y} + b \\dot{q}_{3}\\mathbf{\\hat{a_2}_x} -  L \\dot{q}_{3}\\mathbf{\\hat{a_2}_y}$"
      ],
      "text/plain": [
       "q₁̇ n_x + q₂̇ n_y + b⋅q₃̇ a_2_x + -L⋅q₃̇ a_2_y"
      ]
     },
     "execution_count": 37,
     "metadata": {},
     "output_type": "execute_result"
    }
   ],
   "source": [
    "B4_center.v2pt_theory(P, N, A2)\n",
    "# B4_center.vel(N).express(A2).simplify() # Invalid Json"
   ]
  },
  {
   "cell_type": "code",
   "execution_count": 38,
   "metadata": {},
   "outputs": [
    {
     "data": {
      "image/png": "[encoded data removed]",
      "text/latex": [
       "$\\displaystyle -  r_{2}\\mathbf{\\hat{a_2}_z}$"
      ],
      "text/plain": [
       "-r₂ a_2_z"
      ]
     },
     "execution_count": 38,
     "metadata": {},
     "output_type": "execute_result"
    }
   ],
   "source": [
    "B4_ground = B4_center.locatenew('B_4_ground', r2 * -A2.z)\n",
    "B4_ground.pos_from(B4_center)"
   ]
  },
  {
   "cell_type": "code",
   "execution_count": 39,
   "metadata": {},
   "outputs": [
    {
     "data": {
      "image/png": "[encoded data removed]",
      "text/latex": [
       "$\\displaystyle \\dot{q}_{1}\\mathbf{\\hat{n}_x} + \\dot{q}_{2}\\mathbf{\\hat{n}_y} + (b \\dot{q}_{3} - r_{2} \\dot{q}_{8})\\mathbf{\\hat{a_2}_x} -  L \\dot{q}_{3}\\mathbf{\\hat{a_2}_y}$"
      ],
      "text/plain": [
       "q₁̇ n_x + q₂̇ n_y + (b⋅q₃̇ - r₂⋅q₈̇) a_2_x + -L⋅q₃̇ a_2_y"
      ]
     },
     "execution_count": 39,
     "metadata": {},
     "output_type": "execute_result"
    }
   ],
   "source": [
    "B4_ground.v2pt_theory(B4_center, N, B4)\n",
    "B4_ground.vel(N).simplify()"
   ]
  },
  {
   "cell_type": "code",
   "execution_count": 40,
   "metadata": {},
   "outputs": [
    {
     "data": {
      "image/png": "[encoded data removed]",
      "text/latex": [
       "$\\displaystyle \\left[ b \\dot{q}_{3} - r_{2} \\dot{q}_{8} + \\operatorname{sin}\\left(q_{3}\\right) \\dot{q}_{2} + \\operatorname{cos}\\left(q_{3}\\right) \\dot{q}_{1}, \\  - L \\dot{q}_{3} - \\operatorname{sin}\\left(q_{3}\\right) \\dot{q}_{1} + \\operatorname{cos}\\left(q_{3}\\right) \\dot{q}_{2}, \\  0\\right]$"
      ],
      "text/plain": [
       "[b⋅q₃̇ - r₂⋅q₈̇ + sin(q₃)⋅q₂̇ + cos(q₃)⋅q₁̇, -L⋅q₃̇ - sin(q₃)⋅q₁̇ + cos(q₃)⋅q₂̇, 0]"
      ]
     },
     "execution_count": 40,
     "metadata": {},
     "output_type": "execute_result"
    }
   ],
   "source": [
    "B4_cons = [me.dot(B4_ground.vel(N).simplify(), uv) for uv in A2]\n",
    "sm.trigsimp(B4_cons)"
   ]
  },
  {
   "cell_type": "code",
   "execution_count": 41,
   "metadata": {},
   "outputs": [
    {
     "data": {
      "image/png": "[encoded data removed]",
      "text/latex": [
       "$\\displaystyle b \\dot{q}_{3} - r_{2} \\dot{q}_{8} + \\operatorname{sin}\\left(q_{3}\\right) \\dot{q}_{2} + \\operatorname{cos}\\left(q_{3}\\right) \\dot{q}_{1} = 0$"
      ],
      "text/plain": [
       "b⋅q₃̇ - r₂⋅q₈̇ + sin(q₃)⋅q₂̇ + cos(q₃)⋅q₁̇ = 0"
      ]
     },
     "execution_count": 41,
     "metadata": {},
     "output_type": "execute_result"
    }
   ],
   "source": [
    "eq7 = sm.Eq(B4_cons[0].simplify().subs(u), 0)\n",
    "eq7"
   ]
  },
  {
   "cell_type": "code",
   "execution_count": 42,
   "metadata": {},
   "outputs": [
    {
     "data": {
      "image/png": "[encoded data removed]",
      "text/latex": [
       "$\\displaystyle - L \\dot{q}_{3} - \\operatorname{sin}\\left(q_{3}\\right) \\dot{q}_{1} + \\operatorname{cos}\\left(q_{3}\\right) \\dot{q}_{2} = 0$"
      ],
      "text/plain": [
       "-L⋅q₃̇ - sin(q₃)⋅q₁̇ + cos(q₃)⋅q₂̇ = 0"
      ]
     },
     "execution_count": 42,
     "metadata": {},
     "output_type": "execute_result"
    }
   ],
   "source": [
    "eq8 = sm.Eq(B4_cons[1].simplify().subs(u), 0)\n",
    "eq8"
   ]
  },
  {
   "cell_type": "markdown",
   "metadata": {},
   "source": [
    "### $\\text{LHS} \\Longleftrightarrow \\text{RHS}\\ \\text{in}\\ z_1, z_2 \\rightarrow \\text{Equations}\\ 9, 10$"
   ]
  },
  {
   "cell_type": "code",
   "execution_count": 43,
   "metadata": {},
   "outputs": [
    {
     "data": {
      "image/png": "[encoded data removed]",
      "text/latex": [
       "$\\displaystyle \\dot{q}_{4} = u_{1}$"
      ],
      "text/plain": [
       "q₄̇ = u₁"
      ]
     },
     "execution_count": 43,
     "metadata": {},
     "output_type": "execute_result"
    }
   ],
   "source": [
    "eq9 = sm.Eq(A1.ang_vel_in(A2).dot(A1.z), u1)\n",
    "eq9"
   ]
  },
  {
   "cell_type": "code",
   "execution_count": 44,
   "metadata": {},
   "outputs": [
    {
     "data": {
      "image/png": "[encoded data removed]",
      "text/latex": [
       "$\\displaystyle \\left(- \\operatorname{sin}\\left(q_{3}\\right) \\operatorname{sin}\\left(q_{4}\\right) + \\operatorname{cos}\\left(q_{3}\\right) \\operatorname{cos}\\left(q_{4}\\right)\\right) \\dot{q}_{1} + \\left(\\operatorname{sin}\\left(q_{3}\\right) \\operatorname{cos}\\left(q_{4}\\right) + \\operatorname{sin}\\left(q_{4}\\right) \\operatorname{cos}\\left(q_{3}\\right)\\right) \\dot{q}_{2} = u_{2}$"
      ],
      "text/plain": [
       "(-sin(q₃)⋅sin(q₄) + cos(q₃)⋅cos(q₄))⋅q₁̇ + (sin(q₃)⋅cos(q₄) + sin(q₄)⋅cos(q₃))\n",
       "⋅q₂̇ = u₂"
      ]
     },
     "execution_count": 44,
     "metadata": {},
     "output_type": "execute_result"
    }
   ],
   "source": [
    "eq10 = sm.Eq(Q.vel(N).dot(A1.x), u2)\n",
    "eq10"
   ]
  },
  {
   "cell_type": "markdown",
   "metadata": {},
   "source": [
    "### $\\text{Solution of the System of Linear (in}\\ \\dot{q}_1,...\\text{) Equations}$"
   ]
  },
  {
   "cell_type": "code",
   "execution_count": 45,
   "metadata": {},
   "outputs": [],
   "source": [
    "solution = sm.solve([eq1, eq2, eq3, eq4, eq5, eq6, eq7, eq8, eq9, eq10], q1.diff(), q2.diff(), q3.diff(),  q4.diff(), q5.diff(), q6.diff(), q7.diff(), q8.diff())"
   ]
  },
  {
   "cell_type": "code",
   "execution_count": 46,
   "metadata": {},
   "outputs": [
    {
     "data": {
      "image/png": "[encoded data removed]",
      "text/latex": [
       "$\\displaystyle \\left\\{ \\dot{q}_{1} : u_{2} \\operatorname{cos}\\left(q_{3} + q_{4}\\right), \\  \\dot{q}_{2} : u_{2} \\operatorname{sin}\\left(q_{3} + q_{4}\\right), \\  \\dot{q}_{3} : \\frac{\\left(L \\operatorname{cos}\\left(q_{4}\\right) + b \\operatorname{sin}\\left(q_{4}\\right)\\right) u_{2} \\operatorname{tan}\\left(q_{4}\\right)}{L \\left(L + b \\operatorname{tan}\\left(q_{4}\\right)\\right)}, \\  \\dot{q}_{4} : u_{1}, \\  \\dot{q}_{5} : \\frac{- L \\left(L + b \\operatorname{tan}\\left(q_{4}\\right)\\right) \\left(a u_{1} + u_{2}\\right) + 2 L \\left(L + b \\operatorname{tan}\\left(q_{4}\\right)\\right) u_{2} - a \\left(L \\operatorname{cos}\\left(q_{4}\\right) + b \\operatorname{sin}\\left(q_{4}\\right)\\right) u_{2} \\operatorname{tan}\\left(q_{4}\\right)}{L r_{1} \\left(L + b \\operatorname{tan}\\left(q_{4}\\right)\\right)}, \\  \\dot{q}_{6} : \\frac{L \\left(L + b \\operatorname{tan}\\left(q_{4}\\right)\\right) \\left(a u_{1} + u_{2}\\right) + a \\left(L \\operatorname{cos}\\left(q_{4}\\right) + b \\operatorname{sin}\\left(q_{4}\\right)\\right) u_{2} \\operatorname{tan}\\left(q_{4}\\right)}{L r_{1} \\left(L + b \\operatorname{tan}\\left(q_{4}\\right)\\right)}, \\  \\dot{q}_{7} : \\frac{\\left(L - b \\operatorname{tan}\\left(q_{4}\\right)\\right) \\left(L \\operatorname{cos}\\left(q_{4}\\right) + b \\operatorname{sin}\\left(q_{4}\\right)\\right) u_{2}}{L r_{2} \\left(L + b \\operatorname{tan}\\left(q_{4}\\right)\\right)}, \\  \\dot{q}_{8} : \\frac{\\left(L \\operatorname{cos}\\left(q_{4}\\right) + b \\operatorname{sin}\\left(q_{4}\\right)\\right) u_{2}}{L r_{2}}\\right\\}$"
      ],
      "text/plain": [
       "⎧                                              (L⋅cos(q₄) + b⋅sin(q₄))⋅u₂⋅tan(\n",
       "⎨q₁̇: u₂⋅cos(q₃ + q₄), q₂̇: u₂⋅sin(q₃ + q₄), q₃̇: ────────────────────────────\n",
       "⎩                                                      L⋅(L + b⋅tan(q₄))      \n",
       "\n",
       "q₄)              -L⋅(L + b⋅tan(q₄))⋅(a⋅u₁ + u₂) + 2⋅L⋅(L + b⋅tan(q₄))⋅u₂ - a⋅(\n",
       "──────, q₄̇: u₁, q₅̇: ────────────────────────────────────────────────────────\n",
       "                                                      L⋅r₁⋅(L + b⋅tan(q₄))    \n",
       "\n",
       "L⋅cos(q₄) + b⋅sin(q₄))⋅u₂⋅tan(q₄)      L⋅(L + b⋅tan(q₄))⋅(a⋅u₁ + u₂) + a⋅(L⋅co\n",
       "──────────────────────────────────────, q₆̇: ─────────────────────────────────\n",
       "                                                               L⋅r₁⋅(L + b⋅tan\n",
       "\n",
       "s(q₄) + b⋅sin(q₄))⋅u₂⋅tan(q₄)      (L - b⋅tan(q₄))⋅(L⋅cos(q₄) + b⋅sin(q₄))⋅u₂ \n",
       "───────────────────────────────────, q₇̇: ────────────────────────────────────\n",
       "(q₄))                                         L⋅r₂⋅(L + b⋅tan(q₄))            \n",
       "\n",
       "     (L⋅cos(q₄) + b⋅sin(q₄))⋅u₂⎫\n",
       "──────, q₈̇: ──────────────────────────⎬\n",
       "                L⋅r₂           ⎭"
      ]
     },
     "execution_count": 46,
     "metadata": {},
     "output_type": "execute_result"
    }
   ],
   "source": [
    "solution"
   ]
  },
  {
   "cell_type": "code",
   "execution_count": 47,
   "metadata": {},
   "outputs": [
    {
     "data": {
      "image/png": "[encoded data removed]",
      "text/latex": [
       "$\\displaystyle \\left[ \\dot{q}_{8}, \\  \\dot{q}_{4}, \\  \\dot{q}_{7}, \\  \\dot{q}_{6}, \\  \\dot{q}_{1}, \\  \\dot{q}_{5}, \\  \\dot{q}_{2}, \\  \\dot{q}_{3}\\right]$"
      ],
      "text/plain": [
       "[q₈̇, q₄̇, q₇̇, q₆̇, q₁̇, q₅̇, q₂̇, q₃̇]"
      ]
     },
     "execution_count": 47,
     "metadata": {},
     "output_type": "execute_result"
    }
   ],
   "source": [
    "sollist_keys = list(solution.keys())\n",
    "sollist_keys"
   ]
  },
  {
   "cell_type": "code",
   "execution_count": 48,
   "metadata": {},
   "outputs": [
    {
     "data": {
      "image/png": "[encoded data removed]",
      "text/latex": [
       "$\\displaystyle \\left[ \\frac{\\left(L \\operatorname{cos}\\left(q_{4}\\right) + b \\operatorname{sin}\\left(q_{4}\\right)\\right) u_{2}}{L r_{2}}, \\  u_{1}, \\  \\frac{\\left(L - b \\operatorname{tan}\\left(q_{4}\\right)\\right) \\left(L \\operatorname{cos}\\left(q_{4}\\right) + b \\operatorname{sin}\\left(q_{4}\\right)\\right) u_{2}}{L r_{2} \\left(L + b \\operatorname{tan}\\left(q_{4}\\right)\\right)}, \\  \\frac{L \\left(L + b \\operatorname{tan}\\left(q_{4}\\right)\\right) \\left(a u_{1} + u_{2}\\right) + a \\left(L \\operatorname{cos}\\left(q_{4}\\right) + b \\operatorname{sin}\\left(q_{4}\\right)\\right) u_{2} \\operatorname{tan}\\left(q_{4}\\right)}{L r_{1} \\left(L + b \\operatorname{tan}\\left(q_{4}\\right)\\right)}, \\  u_{2} \\operatorname{cos}\\left(q_{3} + q_{4}\\right), \\  \\frac{- L \\left(L + b \\operatorname{tan}\\left(q_{4}\\right)\\right) \\left(a u_{1} + u_{2}\\right) + 2 L \\left(L + b \\operatorname{tan}\\left(q_{4}\\right)\\right) u_{2} - a \\left(L \\operatorname{cos}\\left(q_{4}\\right) + b \\operatorname{sin}\\left(q_{4}\\right)\\right) u_{2} \\operatorname{tan}\\left(q_{4}\\right)}{L r_{1} \\left(L + b \\operatorname{tan}\\left(q_{4}\\right)\\right)}, \\  u_{2} \\operatorname{sin}\\left(q_{3} + q_{4}\\right), \\  \\frac{\\left(L \\operatorname{cos}\\left(q_{4}\\right) + b \\operatorname{sin}\\left(q_{4}\\right)\\right) u_{2} \\operatorname{tan}\\left(q_{4}\\right)}{L \\left(L + b \\operatorname{tan}\\left(q_{4}\\right)\\right)}\\right]$"
      ],
      "text/plain": [
       "⎡(L⋅cos(q₄) + b⋅sin(q₄))⋅u₂      (L - b⋅tan(q₄))⋅(L⋅cos(q₄) + b⋅sin(q₄))⋅u₂  L\n",
       "⎢──────────────────────────, u₁, ──────────────────────────────────────────, ─\n",
       "⎣           L⋅r₂                            L⋅r₂⋅(L + b⋅tan(q₄))              \n",
       "\n",
       "⋅(L + b⋅tan(q₄))⋅(a⋅u₁ + u₂) + a⋅(L⋅cos(q₄) + b⋅sin(q₄))⋅u₂⋅tan(q₄)           \n",
       "───────────────────────────────────────────────────────────────────, u₂⋅cos(q₃\n",
       "                       L⋅r₁⋅(L + b⋅tan(q₄))                                   \n",
       "\n",
       "        -L⋅(L + b⋅tan(q₄))⋅(a⋅u₁ + u₂) + 2⋅L⋅(L + b⋅tan(q₄))⋅u₂ - a⋅(L⋅cos(q₄)\n",
       " + q₄), ──────────────────────────────────────────────────────────────────────\n",
       "                                             L⋅r₁⋅(L + b⋅tan(q₄))             \n",
       "\n",
       " + b⋅sin(q₄))⋅u₂⋅tan(q₄)                   (L⋅cos(q₄) + b⋅sin(q₄))⋅u₂⋅tan(q₄)⎤\n",
       "────────────────────────, u₂⋅sin(q₃ + q₄), ──────────────────────────────────⎥\n",
       "                                                   L⋅(L + b⋅tan(q₄))         ⎦"
      ]
     },
     "execution_count": 48,
     "metadata": {},
     "output_type": "execute_result"
    }
   ],
   "source": [
    "sollist_values = list(solution.values())\n",
    "sollist_values"
   ]
  },
  {
   "cell_type": "code",
   "execution_count": 49,
   "metadata": {},
   "outputs": [],
   "source": [
    "sollist_values_simple = []\n",
    "for i in range(8):\n",
    "   sollist_values_simple.append(sm.factor(TR2(sollist_values[i]).simplify()))"
   ]
  },
  {
   "cell_type": "code",
   "execution_count": 50,
   "metadata": {},
   "outputs": [
    {
     "data": {
      "image/png": "[encoded data removed]",
      "text/latex": [
       "$\\displaystyle \\left[ \\frac{\\left(L \\operatorname{cos}\\left(q_{4}\\right) + b \\operatorname{sin}\\left(q_{4}\\right)\\right) u_{2}}{L r_{2}}, \\  u_{1}, \\  - \\frac{\\left(- L \\operatorname{cos}\\left(q_{4}\\right) + b \\operatorname{sin}\\left(q_{4}\\right)\\right) u_{2}}{L r_{2}}, \\  \\frac{L a u_{1} + L u_{2} + a u_{2} \\operatorname{sin}\\left(q_{4}\\right)}{L r_{1}}, \\  u_{2} \\operatorname{cos}\\left(q_{3} + q_{4}\\right), \\  - \\frac{L a u_{1} - L u_{2} + a u_{2} \\operatorname{sin}\\left(q_{4}\\right)}{L r_{1}}, \\  u_{2} \\operatorname{sin}\\left(q_{3} + q_{4}\\right), \\  \\frac{u_{2} \\operatorname{sin}\\left(q_{4}\\right)}{L}\\right]$"
      ],
      "text/plain": [
       "⎡(L⋅cos(q₄) + b⋅sin(q₄))⋅u₂      -(-L⋅cos(q₄) + b⋅sin(q₄))⋅u₂   L⋅a⋅u₁ + L⋅u₂ \n",
       "⎢──────────────────────────, u₁, ─────────────────────────────, ──────────────\n",
       "⎣           L⋅r₂                              L⋅r₂                          L⋅\n",
       "\n",
       "+ a⋅u₂⋅sin(q₄)                   -(L⋅a⋅u₁ - L⋅u₂ + a⋅u₂⋅sin(q₄))              \n",
       "──────────────, u₂⋅cos(q₃ + q₄), ────────────────────────────────, u₂⋅sin(q₃ +\n",
       "r₁                                             L⋅r₁                           \n",
       "\n",
       "      u₂⋅sin(q₄)⎤\n",
       " q₄), ──────────⎥\n",
       "          L     ⎦"
      ]
     },
     "execution_count": 50,
     "metadata": {},
     "output_type": "execute_result"
    }
   ],
   "source": [
    "sollist_values_simple"
   ]
  },
  {
   "cell_type": "code",
   "execution_count": 51,
   "metadata": {},
   "outputs": [
    {
     "data": {
      "image/png": "[encoded data removed]",
      "text/latex": [
       "$\\displaystyle \\left\\{ \\dot{q}_{1} : u_{2} \\operatorname{cos}\\left(q_{3} + q_{4}\\right), \\  \\dot{q}_{2} : u_{2} \\operatorname{sin}\\left(q_{3} + q_{4}\\right), \\  \\dot{q}_{3} : \\frac{u_{2} \\operatorname{sin}\\left(q_{4}\\right)}{L}, \\  \\dot{q}_{4} : u_{1}, \\  \\dot{q}_{5} : - \\frac{L a u_{1} - L u_{2} + a u_{2} \\operatorname{sin}\\left(q_{4}\\right)}{L r_{1}}, \\  \\dot{q}_{6} : \\frac{L a u_{1} + L u_{2} + a u_{2} \\operatorname{sin}\\left(q_{4}\\right)}{L r_{1}}, \\  \\dot{q}_{7} : - \\frac{\\left(- L \\operatorname{cos}\\left(q_{4}\\right) + b \\operatorname{sin}\\left(q_{4}\\right)\\right) u_{2}}{L r_{2}}, \\  \\dot{q}_{8} : \\frac{\\left(L \\operatorname{cos}\\left(q_{4}\\right) + b \\operatorname{sin}\\left(q_{4}\\right)\\right) u_{2}}{L r_{2}}\\right\\}$"
      ],
      "text/plain": [
       "⎧                                              u₂⋅sin(q₄)              -(L⋅a⋅u\n",
       "⎨q₁̇: u₂⋅cos(q₃ + q₄), q₂̇: u₂⋅sin(q₃ + q₄), q₃̇: ──────────, q₄̇: u₁, q₅̇: ──\n",
       "⎩                                                  L                          \n",
       "\n",
       "₁ - L⋅u₂ + a⋅u₂⋅sin(q₄))       L⋅a⋅u₁ + L⋅u₂ + a⋅u₂⋅sin(q₄)      -(-L⋅cos(q₄) \n",
       "──────────────────────────────, q₆̇: ────────────────────────────, q₇̇: ──────\n",
       "       L⋅r₁                                L⋅r₁                               \n",
       "\n",
       "+ b⋅sin(q₄))⋅u₂       (L⋅cos(q₄) + b⋅sin(q₄))⋅u₂⎫\n",
       "───────────────────────, q₈̇: ──────────────────────────⎬\n",
       "L⋅r₂                             L⋅r₂           ⎭"
      ]
     },
     "execution_count": 51,
     "metadata": {},
     "output_type": "execute_result"
    }
   ],
   "source": [
    "soldict = dict(zip(sollist_keys, sollist_values_simple)) \n",
    "soldict"
   ]
  },
  {
   "cell_type": "markdown",
   "metadata": {},
   "source": [
    "### $\\text{Reformulated Velocity and Angular Velocity Expressions}$"
   ]
  },
  {
   "cell_type": "code",
   "execution_count": 52,
   "metadata": {},
   "outputs": [
    {
     "data": {
      "image/png": "[encoded data removed]",
      "text/latex": [
       "$\\displaystyle u_{2}\\mathbf{\\hat{a_1}_x}$"
      ],
      "text/plain": [
       "u₂ a_1_x"
      ]
     },
     "execution_count": 52,
     "metadata": {},
     "output_type": "execute_result"
    }
   ],
   "source": [
    "N_v_Q = Q.vel(N).subs(soldict).express(A1).simplify()\n",
    "N_v_Q"
   ]
  },
  {
   "cell_type": "code",
   "execution_count": 53,
   "metadata": {},
   "outputs": [
    {
     "data": {
      "image/png": "[encoded data removed]",
      "text/latex": [
       "$\\displaystyle u_{2} \\operatorname{cos}\\left(q_{4}\\right)\\mathbf{\\hat{a_2}_x}$"
      ],
      "text/plain": [
       "u₂⋅cos(q₄) a_2_x"
      ]
     },
     "execution_count": 53,
     "metadata": {},
     "output_type": "execute_result"
    }
   ],
   "source": [
    "N_v_P = P.vel(N).subs(soldict).express(A2).simplify()\n",
    "N_v_P"
   ]
  },
  {
   "cell_type": "code",
   "execution_count": 54,
   "metadata": {},
   "outputs": [
    {
     "data": {
      "image/png": "[encoded data removed]",
      "text/latex": [
       "$\\displaystyle u_{2} \\operatorname{cos}\\left(q_{4}\\right)\\mathbf{\\hat{a_2}_x} + \\frac{l u_{2} \\operatorname{sin}\\left(q_{4}\\right)}{L}\\mathbf{\\hat{a_2}_y}$"
      ],
      "text/plain": [
       "                   l⋅u₂⋅sin(q₄)\n",
       "u₂⋅cos(q₄) a_2_x + ──────────── a_2_y\n",
       "                        L"
      ]
     },
     "execution_count": 54,
     "metadata": {},
     "output_type": "execute_result"
    }
   ],
   "source": [
    "N_v_C = C.vel(N).subs(soldict).express(A2).simplify()\n",
    "N_v_C"
   ]
  },
  {
   "cell_type": "code",
   "execution_count": 55,
   "metadata": {},
   "outputs": [
    {
     "data": {
      "image/png": "[encoded data removed]",
      "text/latex": [
       "$\\displaystyle (u_{1} + \\frac{u_{2} \\operatorname{sin}\\left(q_{4}\\right)}{L})\\mathbf{\\hat{a_1}_z}$"
      ],
      "text/plain": [
       "⎛     u₂⋅sin(q₄)⎞\n",
       "⎜u₁ + ──────────⎟ a_1_z\n",
       "⎝         L     ⎠"
      ]
     },
     "execution_count": 55,
     "metadata": {},
     "output_type": "execute_result"
    }
   ],
   "source": [
    "N_w_A1 = A1.ang_vel_in(N).subs(soldict).express(A1).simplify()\n",
    "N_w_A1"
   ]
  },
  {
   "cell_type": "code",
   "execution_count": 56,
   "metadata": {},
   "outputs": [
    {
     "data": {
      "image/png": "[encoded data removed]",
      "text/latex": [
       "$\\displaystyle \\frac{u_{2} \\operatorname{sin}\\left(q_{4}\\right)}{L}\\mathbf{\\hat{a_2}_z}$"
      ],
      "text/plain": [
       "u₂⋅sin(q₄)\n",
       "────────── a_2_z\n",
       "    L"
      ]
     },
     "execution_count": 56,
     "metadata": {},
     "output_type": "execute_result"
    }
   ],
   "source": [
    "N_w_A2 = A2.ang_vel_in(N).subs(soldict).express(A2).simplify()\n",
    "N_w_A2"
   ]
  },
  {
   "cell_type": "markdown",
   "metadata": {},
   "source": [
    "### $\\text{Partial Velocities and Partial Angular Velocities}$"
   ]
  },
  {
   "cell_type": "code",
   "execution_count": 57,
   "metadata": {},
   "outputs": [
    {
     "data": {
      "image/png": "[encoded data removed]",
      "text/latex": [
       "$\\displaystyle 0$"
      ],
      "text/plain": [
       "0"
      ]
     },
     "execution_count": 57,
     "metadata": {},
     "output_type": "execute_result"
    }
   ],
   "source": [
    "V_1_Q = N_v_Q.diff(u1, N)\n",
    "V_1_Q"
   ]
  },
  {
   "cell_type": "code",
   "execution_count": 58,
   "metadata": {},
   "outputs": [
    {
     "data": {
      "image/png": "[encoded data removed]",
      "text/latex": [
       "$\\displaystyle \\mathbf{\\hat{a_1}_x}$"
      ],
      "text/plain": [
       "a_1_x"
      ]
     },
     "execution_count": 58,
     "metadata": {},
     "output_type": "execute_result"
    }
   ],
   "source": [
    "V_2_Q = N_v_Q.diff(u2, N)\n",
    "V_2_Q"
   ]
  },
  {
   "cell_type": "code",
   "execution_count": 59,
   "metadata": {},
   "outputs": [
    {
     "data": {
      "image/png": "[encoded data removed]",
      "text/latex": [
       "$\\displaystyle 0$"
      ],
      "text/plain": [
       "0"
      ]
     },
     "execution_count": 59,
     "metadata": {},
     "output_type": "execute_result"
    }
   ],
   "source": [
    "V_1_C = N_v_C.diff(u1, N)\n",
    "V_1_C"
   ]
  },
  {
   "cell_type": "code",
   "execution_count": 60,
   "metadata": {},
   "outputs": [
    {
     "data": {
      "image/png": "[encoded data removed]",
      "text/latex": [
       "$\\displaystyle \\operatorname{cos}\\left(q_{4}\\right)\\mathbf{\\hat{a_2}_x} + \\frac{l \\operatorname{sin}\\left(q_{4}\\right)}{L}\\mathbf{\\hat{a_2}_y}$"
      ],
      "text/plain": [
       "                l⋅sin(q₄)\n",
       "cos(q₄) a_2_x + ───────── a_2_y\n",
       "                    L"
      ]
     },
     "execution_count": 60,
     "metadata": {},
     "output_type": "execute_result"
    }
   ],
   "source": [
    "V_2_C = N_v_C.diff(u2, N)\n",
    "V_2_C"
   ]
  },
  {
   "cell_type": "code",
   "execution_count": 61,
   "metadata": {},
   "outputs": [
    {
     "data": {
      "image/png": "[encoded data removed]",
      "text/latex": [
       "$\\displaystyle 0$"
      ],
      "text/plain": [
       "0"
      ]
     },
     "execution_count": 61,
     "metadata": {},
     "output_type": "execute_result"
    }
   ],
   "source": [
    "V_1_P = N_v_P.diff(u1, N)\n",
    "V_1_P"
   ]
  },
  {
   "cell_type": "code",
   "execution_count": 62,
   "metadata": {},
   "outputs": [
    {
     "data": {
      "image/png": "[encoded data removed]",
      "text/latex": [
       "$\\displaystyle \\operatorname{cos}\\left(q_{4}\\right)\\mathbf{\\hat{a_2}_x}$"
      ],
      "text/plain": [
       "cos(q₄) a_2_x"
      ]
     },
     "execution_count": 62,
     "metadata": {},
     "output_type": "execute_result"
    }
   ],
   "source": [
    "V_2_P = N_v_P.diff(u2, N)\n",
    "V_2_P"
   ]
  },
  {
   "cell_type": "code",
   "execution_count": 63,
   "metadata": {},
   "outputs": [
    {
     "data": {
      "image/png": "[encoded data removed]",
      "text/latex": [
       "$\\displaystyle \\mathbf{\\hat{a_1}_z}$"
      ],
      "text/plain": [
       "a_1_z"
      ]
     },
     "execution_count": 63,
     "metadata": {},
     "output_type": "execute_result"
    }
   ],
   "source": [
    "w_1_A1 = N_w_A1.diff(u1, N)\n",
    "w_1_A1"
   ]
  },
  {
   "cell_type": "code",
   "execution_count": 64,
   "metadata": {},
   "outputs": [
    {
     "data": {
      "image/png": "[encoded data removed]",
      "text/latex": [
       "$\\displaystyle \\frac{\\operatorname{sin}\\left(q_{4}\\right)}{L}\\mathbf{\\hat{a_1}_z}$"
      ],
      "text/plain": [
       "sin(q₄)\n",
       "─────── a_1_z\n",
       "   L"
      ]
     },
     "execution_count": 64,
     "metadata": {},
     "output_type": "execute_result"
    }
   ],
   "source": [
    "w_2_A1 = N_w_A1.diff(u2, N)\n",
    "w_2_A1"
   ]
  },
  {
   "cell_type": "code",
   "execution_count": 65,
   "metadata": {},
   "outputs": [
    {
     "data": {
      "image/png": "[encoded data removed]",
      "text/latex": [
       "$\\displaystyle 0$"
      ],
      "text/plain": [
       "0"
      ]
     },
     "execution_count": 65,
     "metadata": {},
     "output_type": "execute_result"
    }
   ],
   "source": [
    "w_1_A2 = N_w_A2.diff(u1, N)\n",
    "w_1_A2"
   ]
  },
  {
   "cell_type": "code",
   "execution_count": 66,
   "metadata": {},
   "outputs": [
    {
     "data": {
      "image/png": "[encoded data removed]",
      "text/latex": [
       "$\\displaystyle \\frac{\\operatorname{sin}\\left(q_{4}\\right)}{L}\\mathbf{\\hat{a_2}_z}$"
      ],
      "text/plain": [
       "sin(q₄)\n",
       "─────── a_2_z\n",
       "   L"
      ]
     },
     "execution_count": 66,
     "metadata": {},
     "output_type": "execute_result"
    }
   ],
   "source": [
    "w_2_A2 = N_w_A2.diff(u2, N)\n",
    "w_2_A2"
   ]
  },
  {
   "cell_type": "markdown",
   "metadata": {},
   "source": [
    "### $\\text{Accelerations and Angular Accelerations}$"
   ]
  },
  {
   "cell_type": "code",
   "execution_count": 67,
   "metadata": {},
   "outputs": [],
   "source": [
    "a__P, a__C, a__Q, alpha__A1, alpha__A2 = sm.symbols('a__P, a__C, a__Q, alpha__A1, alpha__A2')"
   ]
  },
  {
   "cell_type": "code",
   "execution_count": 68,
   "metadata": {},
   "outputs": [
    {
     "data": {
      "image/png": "[encoded data removed]",
      "text/latex": [
       "$\\displaystyle (- u_{1} u_{2} \\operatorname{sin}\\left(q_{4}\\right) + \\operatorname{cos}\\left(q_{4}\\right) \\dot{u}_{2})\\mathbf{\\hat{a_2}_x} + \\frac{u^{2}_{2} \\operatorname{sin}\\left(q_{4}\\right) \\operatorname{cos}\\left(q_{4}\\right)}{L}\\mathbf{\\hat{a_2}_y}$"
      ],
      "text/plain": [
       "                                        2\n",
       "                                      u₂ ⋅sin(q₄)⋅cos(q₄)\n",
       "(-u₁⋅u₂⋅sin(q₄) + cos(q₄)⋅u₂̇) a_2_x + ─────────────────── a_2_y\n",
       "                                               L"
      ]
     },
     "execution_count": 68,
     "metadata": {},
     "output_type": "execute_result"
    }
   ],
   "source": [
    "N_a_P = N_v_P.dt(N).subs(soldict)\n",
    "N_a_P"
   ]
  },
  {
   "cell_type": "code",
   "execution_count": 69,
   "metadata": {},
   "outputs": [
    {
     "data": {
      "image/png": "[encoded data removed]",
      "text/latex": [
       "$\\displaystyle (- u_{1} u_{2} \\operatorname{sin}\\left(q_{4}\\right) + \\operatorname{cos}\\left(q_{4}\\right) \\dot{u}_{2} - \\frac{l u^{2}_{2} \\operatorname{sin}^{2}\\left(q_{4}\\right)}{L^{2}})\\mathbf{\\hat{a_2}_x} + (\\frac{l u_{1} u_{2} \\operatorname{cos}\\left(q_{4}\\right)}{L} + \\frac{l \\operatorname{sin}\\left(q_{4}\\right) \\dot{u}_{2}}{L} + \\frac{u^{2}_{2} \\operatorname{sin}\\left(q_{4}\\right) \\operatorname{cos}\\left(q_{4}\\right)}{L})\\mathbf{\\hat{a_2}_y}$"
      ],
      "text/plain": [
       "⎛                                  2    2    ⎞         ⎛\n",
       "⎜                              l⋅u₂ ⋅sin (q₄)⎟         ⎜l⋅u₁⋅u₂⋅cos(q₄)   l⋅si\n",
       "⎜-u₁⋅u₂⋅sin(q₄) + cos(q₄)⋅u₂̇ - ──────────────⎟ a_2_x + ⎜─────────────── + ───\n",
       "⎜                                     2      ⎟         ⎝       L\n",
       "⎝                                    L       ⎠\n",
       "\n",
       "             2                ⎞\n",
       "n(q₄)⋅u₂̇   u₂ ⋅sin(q₄)⋅cos(q₄)⎟\n",
       "───────── + ───────────────────⎟ a_2_y\n",
       " L                  L         ⎠\n"
      ]
     },
     "execution_count": 69,
     "metadata": {},
     "output_type": "execute_result"
    }
   ],
   "source": [
    "N_a_C = N_v_C.dt(N).subs(soldict)\n",
    "N_a_C"
   ]
  },
  {
   "cell_type": "code",
   "execution_count": 70,
   "metadata": {},
   "outputs": [
    {
     "data": {
      "image/png": "[encoded data removed]",
      "text/latex": [
       "$\\displaystyle \\dot{u}_{2}\\mathbf{\\hat{a_1}_x} + \\left(u_{1} + \\frac{u_{2} \\operatorname{sin}\\left(q_{4}\\right)}{L}\\right) u_{2}\\mathbf{\\hat{a_1}_y}$"
      ],
      "text/plain": [
       "           ⎛     u₂⋅sin(q₄)⎞\n",
       "u₂̇ a_1_x + ⎜u₁ + ──────────⎟⋅u₂ a_1_y\n",
       "           ⎝         L     ⎠"
      ]
     },
     "execution_count": 70,
     "metadata": {},
     "output_type": "execute_result"
    }
   ],
   "source": [
    "N_a_Q = N_v_Q.dt(N).subs(soldict)\n",
    "N_a_Q"
   ]
  },
  {
   "cell_type": "code",
   "execution_count": 71,
   "metadata": {},
   "outputs": [
    {
     "data": {
      "image/png": "[encoded data removed]",
      "text/latex": [
       "$\\displaystyle (\\dot{u}_{1} + \\frac{u_{1} u_{2} \\operatorname{cos}\\left(q_{4}\\right)}{L} + \\frac{\\operatorname{sin}\\left(q_{4}\\right) \\dot{u}_{2}}{L})\\mathbf{\\hat{a_1}_z}$"
      ],
      "text/plain": [
       "⎛     u₁⋅u₂⋅cos(q₄)   sin(q₄)⋅u₂̇⎞\n",
       "⎜u₁̇ + ───────────── + ──────────⎟ a_1_z\n",
       "⎝           L             L     ⎠"
      ]
     },
     "execution_count": 71,
     "metadata": {},
     "output_type": "execute_result"
    }
   ],
   "source": [
    "N_aa_A1 = N_w_A1.dt(N).subs(soldict)\n",
    "N_aa_A1"
   ]
  },
  {
   "cell_type": "code",
   "execution_count": 72,
   "metadata": {},
   "outputs": [
    {
     "data": {
      "image/png": "[encoded data removed]",
      "text/latex": [
       "$\\displaystyle (\\frac{u_{1} u_{2} \\operatorname{cos}\\left(q_{4}\\right)}{L} + \\frac{\\operatorname{sin}\\left(q_{4}\\right) \\dot{u}_{2}}{L})\\mathbf{\\hat{a_2}_z}$"
      ],
      "text/plain": [
       "⎛u₁⋅u₂⋅cos(q₄)   sin(q₄)⋅u₂̇⎞\n",
       "⎜───────────── + ──────────⎟ a_2_z\n",
       "⎝      L             L     ⎠"
      ]
     },
     "execution_count": 72,
     "metadata": {},
     "output_type": "execute_result"
    }
   ],
   "source": [
    "N_aa_A2 = N_w_A2.dt(N).subs(soldict)\n",
    "N_aa_A2"
   ]
  },
  {
   "cell_type": "markdown",
   "metadata": {},
   "source": [
    "### $\\text{Forces}$"
   ]
  },
  {
   "cell_type": "markdown",
   "metadata": {},
   "source": [
    "$(F_r^*)_G = (F_r^*)_{GR} + (F_r^*)_{GI}$\n",
    "    \n",
    "where,<br>\n",
    "\n",
    "$(F_r^*)_{GR} = {V_r}^G \\cdot {F_G}^* + \\omega_r^A \\cdot {T_G}^*$\n",
    "\n",
    "$F_G^* = -m_G {a^G}^*$\n",
    "      \n",
    "$T_G^* \\overset{\\Delta}{=} -[\\alpha_A \\cdot I_G + \\omega_r^A \\times (I_G \\cdot \\omega_r^A)]$\n",
    "\n",
    "$({F_r}^*)_{GI} = -J\\{\\omega_r^A [\\ddot{q_k} g_1 + \\dot{q_k} (\\omega_3^A g_2 - \\omega_2^A g_3)] + C_{kr} (\\dot{\\omega_1^A} + \\ddot{q_k}) \\}$"
   ]
  },
  {
   "cell_type": "markdown",
   "metadata": {},
   "source": [
    "##### <center>$\\text{Kane, T.R., 1978. Nonholonomic multibody systems containing gyrostats. In Dynamics of Multibody Systems (pp. 97-107). Springer, Berlin, Heidelberg.}$</center>"
   ]
  },
  {
   "cell_type": "markdown",
   "metadata": {},
   "source": [
    "$\\text{Naming Convention:}$\n",
    "\n",
    "$({F_r}^*)_{G_n R}\\ \\text{(rigid)}$\n",
    "\n",
    "$({F_r}^*)_{G_n I}\\ \\text{(internal)}$"
   ]
  },
  {
   "cell_type": "markdown",
   "metadata": {},
   "source": [
    "### $\\text{Masses and Moments of Inertia}$"
   ]
  },
  {
   "cell_type": "code",
   "execution_count": 73,
   "metadata": {},
   "outputs": [],
   "source": [
    "M1, M2 = sm.symbols('M_1, M_2')\n",
    "m = me.dynamicsymbols('m')"
   ]
  },
  {
   "cell_type": "code",
   "execution_count": 74,
   "metadata": {},
   "outputs": [],
   "source": [
    "I1x, I1y, I1z = sm.symbols('I_{1_x}, I_{1_y}, I_{1_z}')\n",
    "I2x, I2y, I2z = sm.symbols('I_{2_x}, I_{2_y}, I_{2_z}')\n",
    "J1, J2 = sm.symbols('J_1, J_2')"
   ]
  },
  {
   "cell_type": "code",
   "execution_count": 75,
   "metadata": {},
   "outputs": [
    {
     "data": {
      "image/png": "[encoded data removed]",
      "text/latex": [
       "$\\displaystyle I_{1_x}\\mathbf{\\hat{a_1}_x}\\otimes \\mathbf{\\hat{a_1}_x} + I_{1_y}\\mathbf{\\hat{a_1}_y}\\otimes \\mathbf{\\hat{a_1}_y} + I_{1_z}\\mathbf{\\hat{a_1}_z}\\otimes \\mathbf{\\hat{a_1}_z}$"
      ],
      "text/plain": [
       "I_{1_x} a_1_x⊗a_1_x + I_{1_y} a_1_y⊗a_1_y + I_{1_z} a_1_z⊗a_1_z"
      ]
     },
     "execution_count": 75,
     "metadata": {},
     "output_type": "execute_result"
    }
   ],
   "source": [
    "I1 = me.inertia(A1, I1x, I1y, I1z)\n",
    "I1"
   ]
  },
  {
   "cell_type": "code",
   "execution_count": 76,
   "metadata": {},
   "outputs": [
    {
     "data": {
      "image/png": "[encoded data removed]",
      "text/latex": [
       "$\\displaystyle I_{2_x}\\mathbf{\\hat{a_2}_x}\\otimes \\mathbf{\\hat{a_2}_x} + I_{2_y}\\mathbf{\\hat{a_2}_y}\\otimes \\mathbf{\\hat{a_2}_y} + I_{2_z}\\mathbf{\\hat{a_2}_z}\\otimes \\mathbf{\\hat{a_2}_z}$"
      ],
      "text/plain": [
       "I_{2_x} a_2_x⊗a_2_x + I_{2_y} a_2_y⊗a_2_y + I_{2_z} a_2_z⊗a_2_z"
      ]
     },
     "execution_count": 76,
     "metadata": {},
     "output_type": "execute_result"
    }
   ],
   "source": [
    "I2 = me.inertia(A2, I2x, I2y, I2z)\n",
    "I2"
   ]
  },
  {
   "cell_type": "markdown",
   "metadata": {},
   "source": [
    "### $\\text{Gyrostat}\\ G_1$"
   ]
  },
  {
   "cell_type": "markdown",
   "metadata": {},
   "source": [
    "#### $\\rightarrow {F_G}^* = -m_G {a^G}^*$"
   ]
  },
  {
   "cell_type": "code",
   "execution_count": 77,
   "metadata": {},
   "outputs": [
    {
     "data": {
      "image/png": "[encoded data removed]",
      "text/latex": [
       "$\\displaystyle -  M_{1} \\dot{u}_{2}\\mathbf{\\hat{a_1}_x} -  M_{1} \\left(u_{1} + \\frac{u_{2} \\operatorname{sin}\\left(q_{4}\\right)}{L}\\right) u_{2}\\mathbf{\\hat{a_1}_y}$"
      ],
      "text/plain": [
       "                   ⎛     u₂⋅sin(q₄)⎞\n",
       "-M₁⋅u₂̇ a_1_x + -M₁⋅⎜u₁ + ──────────⎟⋅u₂ a_1_y\n",
       "                   ⎝         L     ⎠"
      ]
     },
     "execution_count": 77,
     "metadata": {},
     "output_type": "execute_result"
    }
   ],
   "source": [
    "Fstar_G1 = -M1 * N_a_Q\n",
    "Fstar_G1"
   ]
  },
  {
   "cell_type": "markdown",
   "metadata": {},
   "source": [
    "#### $\\rightarrow {T_G}^* \\overset{\\Delta}{=} -[\\alpha_A \\cdot I_G + {\\omega_r}^A \\times (I_G \\cdot {\\omega_r}^A)]$"
   ]
  },
  {
   "cell_type": "code",
   "execution_count": 78,
   "metadata": {},
   "outputs": [
    {
     "data": {
      "image/png": "[encoded data removed]",
      "text/latex": [
       "$\\displaystyle -  I_{1_z} \\left(\\dot{u}_{1} + \\frac{u_{1} u_{2} \\operatorname{cos}\\left(q_{4}\\right)}{L} + \\frac{\\operatorname{sin}\\left(q_{4}\\right) \\dot{u}_{2}}{L}\\right)\\mathbf{\\hat{a_1}_z}$"
      ],
      "text/plain": [
       "         ⎛     u₁⋅u₂⋅cos(q₄)   sin(q₄)⋅u₂̇⎞\n",
       "-I_{1_z}⋅⎜u₁̇ + ───────────── + ──────────⎟ a_1_z\n",
       "         ⎝           L             L     ⎠"
      ]
     },
     "execution_count": 78,
     "metadata": {},
     "output_type": "execute_result"
    }
   ],
   "source": [
    "Tstar_G1 = -(N_aa_A1.dot(I1) + me.cross(N_w_A1, I1.dot(N_w_A1)))\n",
    "Tstar_G1"
   ]
  },
  {
   "cell_type": "markdown",
   "metadata": {},
   "source": [
    "#### $\\rightarrow ({F_r}^*)_{GR} = {V_r}^G \\cdot {F_G}^* + {\\omega_r}^A \\cdot {T_G}^*$"
   ]
  },
  {
   "cell_type": "code",
   "execution_count": 79,
   "metadata": {},
   "outputs": [
    {
     "data": {
      "image/png": "[encoded data removed]",
      "text/latex": [
       "$\\displaystyle - I_{1_z} \\alpha^{A1}$"
      ],
      "text/plain": [
       "-I_{1_z}⋅α__A1"
      ]
     },
     "execution_count": 79,
     "metadata": {},
     "output_type": "execute_result"
    }
   ],
   "source": [
    "Fstar_1_G1_R = V_1_Q.dot(Fstar_G1) + w_1_A1.dot(Tstar_G1).subs(soldict)\n",
    "Fstar_1_G1_R.subs({N_w_A1.dt(N).subs(soldict).dot(A1.z): alpha__A1})"
   ]
  },
  {
   "cell_type": "code",
   "execution_count": 80,
   "metadata": {},
   "outputs": [
    {
     "data": {
      "image/png": "[encoded data removed]",
      "text/latex": [
       "$\\displaystyle - \\frac{I_{1_z} \\alpha^{A1} \\operatorname{sin}\\left(q_{4}\\right)}{L} - M_{1} \\dot{u}_{2}$"
      ],
      "text/plain": [
       "  I_{1_z}⋅α__A1⋅sin(q₄)        \n",
       "- ───────────────────── - M₁⋅u₂̇\n",
       "            L                  "
      ]
     },
     "execution_count": 80,
     "metadata": {},
     "output_type": "execute_result"
    }
   ],
   "source": [
    "Fstar_2_G1_R = V_2_Q.dot(Fstar_G1) + w_2_A1.dot(Tstar_G1).subs(soldict)\n",
    "Fstar_2_G1_R.subs({N_w_A1.dt(N).subs(soldict).dot(A1.z): alpha__A1})"
   ]
  },
  {
   "cell_type": "markdown",
   "metadata": {},
   "source": [
    "#### $\\rightarrow (F_r^*)_{GI} = -J\\{\\omega_r^A \\cdot [\\ddot{q_k} g_1 + \\dot{q_k} (\\omega_3^A g_2 - \\omega_2^A g_3)] + C_{kr} (\\dot{\\omega}_1^A + \\ddot{q_k}) \\} \\qquad (r=1,...,n-m)$"
   ]
  },
  {
   "cell_type": "markdown",
   "metadata": {},
   "source": [
    "$\\text{Here}, \\{\\omega_1^A: \\omega_2^A,\\ \\omega_2^A: \\omega_3^A,\\ \\omega_3^A: \\omega_1^A\\}$"
   ]
  },
  {
   "cell_type": "markdown",
   "metadata": {},
   "source": [
    "#### $\\rightarrow \\dot{q_k} = \\sum_{s = 1}^{n - m} C_{ks} u_s + D_k \\quad \\text{(Generalized Speeds)}$"
   ]
  },
  {
   "cell_type": "markdown",
   "metadata": {},
   "source": [
    "#### $\\omega_i^A \\overset{\\Delta}{=} \\omega^A \\cdot \\hat{g}_i \\quad (i = 1, 2, 3)$"
   ]
  },
  {
   "cell_type": "code",
   "execution_count": 81,
   "metadata": {},
   "outputs": [
    {
     "data": {
      "image/png": "[encoded data removed]",
      "text/latex": [
       "$\\displaystyle \\left( \\frac{J_{1} a \\ddot{q}_{5}}{r_{1}} - \\frac{J_{1} a \\ddot{q}_{6}}{r_{1}}, \\  - \\frac{a}{r_{1}}, \\  \\frac{a}{r_{1}}, \\  - J_{1} \\left(C_{51} \\ddot{q}_{5} + C_{61} \\ddot{q}_{6}\\right)\\right)$"
      ],
      "text/plain": [
       "⎛J₁⋅a⋅q₅̈   J₁⋅a⋅q₆̈  -a   a                        ⎞\n",
       "⎜─────── - ───────, ───, ──, -J₁⋅(C₅₁⋅q₅̈ + C₆₁⋅q₆̈)⎟\n",
       "⎝   r₁        r₁     r₁  r₁                       ⎠"
      ]
     },
     "execution_count": 81,
     "metadata": {},
     "output_type": "execute_result"
    }
   ],
   "source": [
    "# C_kr\n",
    "C51, C61 = sm.symbols('C_51, C_61')\n",
    "C_51 = soldict[q5.diff()].diff(u1)\n",
    "C_61 = soldict[q6.diff()].diff(u1)\n",
    "Fstar_1_G1_I = -J1 * (N_w_A1.dot(q5.diff().diff() * A1.y + q5.diff()*(N_w_A1.dot(A1.x)*A1.z - N_w_A1.dot(A1.z)*A1.x)) + C_51 * (N_w_A1.dot(A1.y).diff() + q5.diff().diff())) \\\n",
    "               -J1 * (N_w_A1.dot(q6.diff().diff() * A1.y + q6.diff()*(N_w_A1.dot(A1.x)*A1.z - N_w_A1.dot(A1.z)*A1.x)) + C_61 * (N_w_A1.dot(A1.y).diff() + q6.diff().diff()))   # B1 \\ B2\n",
    "\n",
    "Fstar_1_G1_I, C_51, C_61, Fstar_1_G1_I.subs({-C_51: -C51, -C_61: -C61}).simplify()"
   ]
  },
  {
   "cell_type": "code",
   "execution_count": 82,
   "metadata": {},
   "outputs": [
    {
     "data": {
      "image/png": "[encoded data removed]",
      "text/latex": [
       "$\\displaystyle \\left( \\frac{J_{1} \\left(- L + a \\operatorname{sin}\\left(q_{4}\\right)\\right) \\ddot{q}_{5}}{L r_{1}} - \\frac{J_{1} \\left(L + a \\operatorname{sin}\\left(q_{4}\\right)\\right) \\ddot{q}_{6}}{L r_{1}}, \\  - \\frac{- L + a \\operatorname{sin}\\left(q_{4}\\right)}{L r_{1}}, \\  \\frac{L + a \\operatorname{sin}\\left(q_{4}\\right)}{L r_{1}}, \\  - J_{1} \\left(C_{52} \\ddot{q}_{5} + C_{62} \\ddot{q}_{6}\\right)\\right)$"
      ],
      "text/plain": [
       "⎛J₁⋅(-L + a⋅sin(q₄))⋅q₅̈   J₁⋅(L + a⋅sin(q₄))⋅q₆̈  -(-L + a⋅sin(q₄))   L + a⋅s\n",
       "⎜────────────────────── - ─────────────────────, ──────────────────, ─────────\n",
       "⎝         L⋅r₁                     L⋅r₁                 L⋅r₁              L⋅r₁\n",
       "\n",
       "in(q₄)                       ⎞\n",
       "────, -J₁⋅(C₅₂⋅q₅̈ + C₆₂⋅q₆̈)⎟\n",
       "                           ⎠"
      ]
     },
     "execution_count": 82,
     "metadata": {},
     "output_type": "execute_result"
    }
   ],
   "source": [
    "# C_kr \n",
    "C52, C62 = sm.symbols('C_52, C_62')\n",
    "C_52 = soldict[q5.diff()].diff(u2)\n",
    "C_62 = soldict[q6.diff()].diff(u2)\n",
    "Fstar_2_G1_I = -J1 * (N_w_A1.dot(q5.diff().diff() * A1.y + q5.diff()*(N_w_A1.dot(A1.x)*A1.z - N_w_A1.dot(A1.z)*A1.x)) + C_52 * (N_w_A1.dot(A1.y).diff() + q5.diff().diff())) \\\n",
    "               -J1 * (N_w_A1.dot(q6.diff().diff() * A1.y + q6.diff()*(N_w_A1.dot(A1.x)*A1.z - N_w_A1.dot(A1.z)*A1.x)) + C_62 * (N_w_A1.dot(A1.y).diff() + q6.diff().diff()))   # B1 \\ B2\n",
    "\n",
    "Fstar_2_G1_I, C_52, C_62, Fstar_2_G1_I.subs({-C_52: -C52, -C_62: -C62}).simplify()"
   ]
  },
  {
   "cell_type": "markdown",
   "metadata": {},
   "source": [
    "#### $\\rightarrow (F_r^*)_G = (F_r^*)_{GR} + (F_r^*)_{GI}$"
   ]
  },
  {
   "cell_type": "code",
   "execution_count": 83,
   "metadata": {},
   "outputs": [
    {
     "data": {
      "image/png": "[encoded data removed]",
      "text/latex": [
       "$\\displaystyle - C_{51} J_{1} \\ddot{q}_{5} - C_{61} J_{1} \\ddot{q}_{6} - I_{1_z} \\alpha^{A1}$"
      ],
      "text/plain": [
       "-C₅₁⋅J₁⋅q₅̈ - C₆₁⋅J₁⋅q₆̈ - I_{1_z}⋅α__A1"
      ]
     },
     "execution_count": 83,
     "metadata": {},
     "output_type": "execute_result"
    }
   ],
   "source": [
    "Fstar_1_G1 = Fstar_1_G1_R + Fstar_1_G1_I\n",
    "Fstar_1_G1.subs({N_w_A1.dt(N).subs(soldict).dot(A1.z): alpha__A1}).subs({-C_51: -C51, -C_61: -C61}).simplify()"
   ]
  },
  {
   "cell_type": "code",
   "execution_count": 84,
   "metadata": {},
   "outputs": [
    {
     "data": {
      "image/png": "[encoded data removed]",
      "text/latex": [
       "$\\displaystyle - C_{52} J_{1} \\ddot{q}_{5} - C_{62} J_{1} \\ddot{q}_{6} - \\frac{I_{1_z} \\alpha^{A1} \\operatorname{sin}\\left(q_{4}\\right)}{L} - M_{1} \\dot{u}_{2}$"
      ],
      "text/plain": [
       "                         I_{1_z}⋅α__A1⋅sin(q₄)        \n",
       "-C₅₂⋅J₁⋅q₅̈ - C₆₂⋅J₁⋅q₆̈ - ───────────────────── - M₁⋅u₂̇\n",
       "                                   L                  "
      ]
     },
     "execution_count": 84,
     "metadata": {},
     "output_type": "execute_result"
    }
   ],
   "source": [
    "Fstar_2_G1 = Fstar_2_G1_R + Fstar_2_G1_I\n",
    "Fstar_2_G1.subs({N_w_A1.dt(N).subs(soldict).dot(A1.z): alpha__A1}).subs({-C_52: -C52, -C_62: -C62}).simplify()"
   ]
  },
  {
   "cell_type": "markdown",
   "metadata": {},
   "source": [
    "### $\\text{Gyrostat}\\ G_2$"
   ]
  },
  {
   "cell_type": "code",
   "execution_count": null,
   "metadata": {},
   "outputs": [],
   "source": []
  }
 ],
 "metadata": {
  "kernelspec": {
   "display_name": "Python 3",
   "language": "python",
   "name": "python3"
  },
  "language_info": {
   "codemirror_mode": {
    "name": "ipython",
    "version": 3
   },
   "file_extension": ".py",
   "mimetype": "text/x-python",
   "name": "python",
   "nbconvert_exporter": "python",
   "pygments_lexer": "ipython3",
   "version": "3.6.8"
  }
 },
 "nbformat": 4,
 "nbformat_minor": 4
}
